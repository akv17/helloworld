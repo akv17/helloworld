{
 "cells": [
  {
   "cell_type": "code",
   "execution_count": 24,
   "metadata": {
    "collapsed": true
   },
   "outputs": [],
   "source": [
    "import numpy as np\n",
    "import pandas as pd\n",
    "import sklearn #scikit-learn\n",
    "import matplotlib.pyplot as plt"
   ]
  },
  {
   "cell_type": "code",
   "execution_count": 7,
   "metadata": {
    "collapsed": true
   },
   "outputs": [],
   "source": [
    "# EatingRabbit\n",
    "# feed(carrot.num)\n",
    "# counter skolko syel\n",
    "# limit skolko mozhet syest\n",
    "\n",
    "class EatingRabbit:\n",
    "    def __init__(self, limit=10):\n",
    "        self.limit = limit\n",
    "        self.counter = 0\n",
    "    def feed(self, num_carrots):\n",
    "        self.counter += num_carrots\n",
    "        if self.counter > self.limit:\n",
    "            self.counter -= num_carrots\n",
    "            print('Overflowed')\n",
    "        else:\n",
    "            print('{0} carrots eaten'.format(self.counter))"
   ]
  },
  {
   "cell_type": "code",
   "execution_count": 8,
   "metadata": {
    "collapsed": false
   },
   "outputs": [],
   "source": [
    "rabbit_1 = EatingRabbit(11)"
   ]
  },
  {
   "cell_type": "code",
   "execution_count": 9,
   "metadata": {
    "collapsed": false
   },
   "outputs": [
    {
     "name": "stdout",
     "output_type": "stream",
     "text": [
      "5 carrots eaten\n"
     ]
    }
   ],
   "source": [
    "rabbit_1.feed(num_carrots=5)"
   ]
  },
  {
   "cell_type": "code",
   "execution_count": 10,
   "metadata": {
    "collapsed": false
   },
   "outputs": [
    {
     "name": "stdout",
     "output_type": "stream",
     "text": [
      "8 carrots eaten\n"
     ]
    }
   ],
   "source": [
    "rabbit_1.feed(num_carrots=3)"
   ]
  },
  {
   "cell_type": "code",
   "execution_count": 11,
   "metadata": {
    "collapsed": false
   },
   "outputs": [
    {
     "name": "stdout",
     "output_type": "stream",
     "text": [
      "Overflowed\n"
     ]
    }
   ],
   "source": [
    "rabbit_1.feed(num_carrots=5)"
   ]
  },
  {
   "cell_type": "code",
   "execution_count": 12,
   "metadata": {
    "collapsed": true
   },
   "outputs": [],
   "source": [
    "rabbit_2 = EatingRabbit(limit=5)"
   ]
  },
  {
   "cell_type": "code",
   "execution_count": 13,
   "metadata": {
    "collapsed": false
   },
   "outputs": [
    {
     "name": "stdout",
     "output_type": "stream",
     "text": [
      "3 carrots eaten\n"
     ]
    }
   ],
   "source": [
    "rabbit_2.feed(3)"
   ]
  },
  {
   "cell_type": "code",
   "execution_count": null,
   "metadata": {
    "collapsed": true
   },
   "outputs": [],
   "source": [
    "# algoritmy v sklearn - klassy\n",
    "# u kazhd klassa est metod 'fit(x,y)' -- obuchenie algoritma. x -- obuchayushaya matrica objectov i ix priznakov, y -- otvety (odnomer. matrica)\n",
    "# clf = algoritm() - sozdanie klassifikator, on zhe -- object-algoritm\n",
    "# dlia nego vyzyvaetsa 'clf.fit(x,y)' -- on obuchit algoritm\n",
    "# clf.predict(x_test) -- sdelaet predskazaniye. x-test -- kontrolnaya vyborka\n",
    "# dlia klassificacii est metod 'predict.proba(x)' -- shitaet veroyatnost prinadlezhnosti x k kakomu-to klassu (kazhdomu klassu)\n",
    "# clf.transform(x) -- preobrazovanie dannyx\n",
    "\n"
   ]
  },
  {
   "cell_type": "code",
   "execution_count": 32,
   "metadata": {
    "collapsed": false
   },
   "outputs": [],
   "source": [
    "# obucheniye klassifikatora\n",
    "x_1 = np.random.normal(loc=5.0, scale=1.0, size=(10, 2)) #object i priznaki 1 \n",
    "x_2 = np.random.normal(loc=3.0, scale=1.0, size=(10, 2)) #object i priznaki 2\n",
    "y_1 = np.ones((10)) #klass 1\n",
    "y_2 = -1 * np.ones((10)) #klass -1\n",
    "\n",
    "x = np.vstack((x_1, x_2)) #skiyanie objectov\n",
    "y = np.hstack((y_1, y_2))# sliyanie otvetov"
   ]
  },
  {
   "cell_type": "code",
   "execution_count": 21,
   "metadata": {
    "collapsed": false
   },
   "outputs": [
    {
     "data": {
      "text/plain": [
       "array([[ 3.73801316,  4.82904738,  2.95904867,  3.26929297],\n",
       "       [ 3.83122345,  4.98594875,  3.09973071,  2.92978831],\n",
       "       [ 4.41996594,  4.34629275,  3.17439878,  1.71679285],\n",
       "       [ 5.26581013,  3.15189139,  2.20858342,  3.02874277],\n",
       "       [ 7.16955907,  3.42191552,  4.1444535 ,  3.67722062],\n",
       "       [ 7.66489804,  4.86085597,  2.64224118,  2.93732441],\n",
       "       [ 5.26971314,  5.85929594,  3.41370208,  3.59978364],\n",
       "       [ 5.57223858,  6.50304105,  1.50917788,  3.30704163],\n",
       "       [ 5.31201889,  6.12786   ,  2.69897433,  3.07310729],\n",
       "       [ 4.50531481,  6.58959326,  4.23133982,  2.80498376]])"
      ]
     },
     "execution_count": 21,
     "metadata": {},
     "output_type": "execute_result"
    }
   ],
   "source": []
  },
  {
   "cell_type": "code",
   "execution_count": 25,
   "metadata": {
    "collapsed": true
   },
   "outputs": [],
   "source": [
    "%matplotlib inline"
   ]
  },
  {
   "cell_type": "code",
   "execution_count": 36,
   "metadata": {
    "collapsed": false
   },
   "outputs": [
    {
     "data": {
      "text/plain": [
       "<matplotlib.collections.PathCollection at 0xb6b2240>"
      ]
     },
     "execution_count": 36,
     "metadata": {},
     "output_type": "execute_result"
    },
    {
     "data": {
      "image/png": "[encoded data removed]",
      "text/plain": [
       "<matplotlib.figure.Figure at 0xb66e630>"
      ]
     },
     "metadata": {},
     "output_type": "display_data"
    }
   ],
   "source": [
    "plt.scatter(x[:, 0], x[:, 1], c=y, s=100, alpha=0.7) # pervyje i vtoroy stolbcy. c -- raspredelenie cvetov po tipam klassov. s -- radius\n",
    "# priznaki -- koordinaty po X i Y. cvet -- tip klass"
   ]
  },
  {
   "cell_type": "code",
   "execution_count": 43,
   "metadata": {
    "collapsed": false
   },
   "outputs": [
    {
     "name": "stderr",
     "output_type": "stream",
     "text": [
      "D:\\Anaconda3\\lib\\site-packages\\sklearn\\cross_validation.py:44: DeprecationWarning: This module was deprecated in version 0.18 in favor of the model_selection module into which all the refactored classes and functions are moved. Also note that the interface of the new CV iterators are different from that of this module. This module will be removed in 0.20.\n",
      "  \"This module will be removed in 0.20.\", DeprecationWarning)\n"
     ]
    }
   ],
   "source": [
    "from sklearn.cross_validation import train_test_split\n",
    "#model_selectio"
   ]
  },
  {
   "cell_type": "code",
   "execution_count": 38,
   "metadata": {
    "collapsed": false
   },
   "outputs": [
    {
     "name": "stdout",
     "output_type": "stream",
     "text": [
      "Collecting sklearn\n",
      "  Downloading sklearn-0.0.tar.gz\n",
      "Collecting scikit-learn (from sklearn)\n",
      "  Downloading scikit_learn-0.18.1-cp35-cp35m-win_amd64.whl (4.1MB)\n",
      "Building wheels for collected packages: sklearn\n",
      "  Running setup.py bdist_wheel for sklearn: started\n",
      "  Running setup.py bdist_wheel for sklearn: finished with status 'done'\n",
      "  Stored in directory: C:\\Users\\student\\AppData\\Local\\pip\\Cache\\wheels\\d7\\db\\a3\\1b8041ab0be63b5c96c503df8e757cf205c2848cf9ef55f85e\n",
      "Successfully built sklearn\n",
      "Installing collected packages: scikit-learn, sklearn\n",
      "  Found existing installation: scikit-learn 0.17.1\n",
      "    Uninstalling scikit-learn-0.17.1:\n",
      "      Successfully uninstalled scikit-learn-0.17.1\n",
      "Successfully installed scikit-learn-0.18.1 sklearn-0.0\n"
     ]
    },
    {
     "name": "stderr",
     "output_type": "stream",
     "text": [
      "    DEPRECATION: Uninstalling a distutils installed project (scikit-learn) has been deprecated and will be removed in a future version. This is due to the fact that uninstalling a distutils project will only partially uninstall the project.\n",
      "You are using pip version 8.1.2, however version 9.0.1 is available.\n",
      "You should consider upgrading via the 'python -m pip install --upgrade pip' command.\n"
     ]
    }
   ],
   "source": [
    "! pip install sklearn --upgrade"
   ]
  },
  {
   "cell_type": "code",
   "execution_count": 45,
   "metadata": {
    "collapsed": false
   },
   "outputs": [],
   "source": [
    "x_train, x_test, y_train, y_test = train_test_split(x, y, test_size=0.3, random_state=42) #train - obuchayushee, test -- kontrolnaya"
   ]
  },
  {
   "cell_type": "code",
   "execution_count": 46,
   "metadata": {
    "collapsed": false
   },
   "outputs": [
    {
     "data": {
      "text/plain": [
       "array([[ 3.03943503,  3.56464548],\n",
       "       [ 4.50794438,  5.33109758],\n",
       "       [ 4.0293388 ,  3.82953282],\n",
       "       [ 4.73304298,  1.5739214 ],\n",
       "       [ 3.64450343,  2.9030484 ],\n",
       "       [ 4.54520561,  4.81918643],\n",
       "       [ 4.72688889,  4.5606023 ],\n",
       "       [ 1.66315506,  2.93884916],\n",
       "       [ 4.71065075,  5.65701442],\n",
       "       [ 1.27435409,  1.1668634 ],\n",
       "       [ 5.72518896,  6.0059123 ],\n",
       "       [ 4.33420179,  4.03821478],\n",
       "       [ 3.3711809 ,  1.72361806],\n",
       "       [ 5.3389254 ,  6.73211055]])"
      ]
     },
     "execution_count": 46,
     "metadata": {},
     "output_type": "execute_result"
    }
   ],
   "source": [
    "# razbirenie vyborki na 30% kontrolnoy i 70% obuchayushey\n",
    "\n",
    "x_train"
   ]
  },
  {
   "cell_type": "code",
   "execution_count": 48,
   "metadata": {
    "collapsed": false
   },
   "outputs": [
    {
     "data": {
      "text/plain": [
       "<matplotlib.collections.PathCollection at 0xca2b208>"
      ]
     },
     "execution_count": 48,
     "metadata": {},
     "output_type": "execute_result"
    },
    {
     "data": {
      "image/png": "[encoded data removed]",
      "text/plain": [
       "<matplotlib.figure.Figure at 0xc887278>"
      ]
     },
     "metadata": {},
     "output_type": "display_data"
    }
   ],
   "source": [
    "plt.scatter(x_train[:, 0], x_train[:, 1], c=y_train, s=100, alpha=0.7) #objecty obuch vyborki"
   ]
  },
  {
   "cell_type": "code",
   "execution_count": 50,
   "metadata": {
    "collapsed": false
   },
   "outputs": [],
   "source": [
    "# algoritm kNN\n",
    "from sklearn.neighbors import KNeighborsClassifier\n"
   ]
  },
  {
   "cell_type": "code",
   "execution_count": 51,
   "metadata": {
    "collapsed": true
   },
   "outputs": [],
   "source": [
    "knn = KNeighborsClassifier() # object-klass "
   ]
  },
  {
   "cell_type": "code",
   "execution_count": 52,
   "metadata": {
    "collapsed": false
   },
   "outputs": [
    {
     "data": {
      "text/plain": [
       "KNeighborsClassifier(algorithm='auto', leaf_size=30, metric='minkowski',\n",
       "           metric_params=None, n_jobs=1, n_neighbors=5, p=2,\n",
       "           weights='uniform')"
      ]
     },
     "execution_count": 52,
     "metadata": {},
     "output_type": "execute_result"
    }
   ],
   "source": [
    "knn.fit(x_train, y_train)"
   ]
  },
  {
   "cell_type": "code",
   "execution_count": 56,
   "metadata": {
    "collapsed": false
   },
   "outputs": [
    {
     "name": "stdout",
     "output_type": "stream",
     "text": [
      "[-1. -1. -1.  1.  1. -1.]\n"
     ]
    }
   ],
   "source": [
    "y_pred = knn.predict(x_test)\n",
    "print(y_pred)"
   ]
  },
  {
   "cell_type": "code",
   "execution_count": 57,
   "metadata": {
    "collapsed": false
   },
   "outputs": [
    {
     "data": {
      "text/plain": [
       "array([ 1., -1., -1.,  1.,  1.,  1.])"
      ]
     },
     "execution_count": 57,
     "metadata": {},
     "output_type": "execute_result"
    }
   ],
   "source": [
    "y_test"
   ]
  },
  {
   "cell_type": "code",
   "execution_count": 62,
   "metadata": {
    "collapsed": false
   },
   "outputs": [
    {
     "data": {
      "text/plain": [
       "0.66666666666666663"
      ]
     },
     "execution_count": 62,
     "metadata": {},
     "output_type": "execute_result"
    }
   ],
   "source": [
    "from sklearn.metrics import accuracy_score\n",
    "accuracy_score(y_test, y_pred) #ocenka tochnosti"
   ]
  },
  {
   "cell_type": "code",
   "execution_count": 61,
   "metadata": {
    "collapsed": false
   },
   "outputs": [
    {
     "data": {
      "text/plain": [
       "0.66666666666666663"
      ]
     },
     "execution_count": 61,
     "metadata": {},
     "output_type": "execute_result"
    }
   ],
   "source": [
    "np.mean(y_pred == y_test) # tozhe ocenka tochnosti"
   ]
  },
  {
   "cell_type": "code",
   "execution_count": null,
   "metadata": {
    "collapsed": true
   },
   "outputs": [],
   "source": [
    "# kNN \n",
    "# object -- vektor. element objecta -- priznak. objecty -- tochki v n-mernom prostranstve.\n",
    "# pust objecty dvux tipov"
   ]
  }
 ],
 "metadata": {
  "anaconda-cloud": {},
  "kernelspec": {
   "display_name": "Python [default]",
   "language": "python",
   "name": "python3"
  },
  "language_info": {
   "codemirror_mode": {
    "name": "ipython",
    "version": 3
   },
   "file_extension": ".py",
   "mimetype": "text/x-python",
   "name": "python",
   "nbconvert_exporter": "python",
   "pygments_lexer": "ipython3",
   "version": "3.5.2"
  }
 },
 "nbformat": 4,
 "nbformat_minor": 1
}
