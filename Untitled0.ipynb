{
 "metadata": {
  "name": "",
  "signature": "sha256:d499b220ac8433ce0c9b73ba66a377d6bda8f834055ac6e3efbdc04d925665aa"
 },
 "nbformat": 3,
 "nbformat_minor": 0,
 "worksheets": [
  {
   "cells": [
    {
     "cell_type": "code",
     "collapsed": false,
     "input": [
      "import urllib.request as ur\n",
      "import re"
     ],
     "language": "python",
     "metadata": {},
     "outputs": [],
     "prompt_number": 33
    },
    {
     "cell_type": "code",
     "collapsed": false,
     "input": [
      "p = ur.urlopen('http://search2.ruscorpora.ru/search.xml?env=alpha&mycorp=&mysent=&mysize=&mysentsize=&mydocsize=&dpp=&spp=&spd=&text=lexgramm&mode=poetic&sort=gr_tagging&ext=10&nodia=1&parent1=0&level1=0&lex1=%F1%EB%EE%E2%EE&gramm1=&flags1=rhymed&sem1=&parent2=0&level2=0&min2=1&max2=1&lex2=&gramm2=&flags2=&sem2=').read().decode('windows-1251')"
     ],
     "language": "python",
     "metadata": {},
     "outputs": [],
     "prompt_number": 30
    },
    {
     "cell_type": "code",
     "collapsed": false,
     "input": [
      "len(p)"
     ],
     "language": "python",
     "metadata": {},
     "outputs": [
      {
       "metadata": {},
       "output_type": "pyout",
       "prompt_number": 32,
       "text": [
        "54986"
       ]
      }
     ],
     "prompt_number": 32
    },
    {
     "cell_type": "code",
     "collapsed": false,
     "input": [
      "m = re.findall('</a><table(.*)[\u0412\u0441\u0435 \u043f\u0440\u0438\u043c\u0435|\u0421\u0442\u0440\u0430\u043d\u0438\u0446\u044b]', p)"
     ],
     "language": "python",
     "metadata": {},
     "outputs": [],
     "prompt_number": 47
    },
    {
     "cell_type": "code",
     "collapsed": false,
     "input": [
      "for el in m:\n",
      "    #print(el)\n",
      "    for s in re.findall('explain.*?>(.*?)</span>[\\W]*<br>', el):\n",
      "        print(s+'\\n')\n",
      "    #print(re.search('explain.*?>(.*?)</span>[\\W]*<br>', el).group())\n",
      "    break"
     ],
     "language": "python",
     "metadata": {},
     "outputs": [
      {
       "output_type": "stream",
       "stream": "stdout",
       "text": [
        "\u041d\u0430\u0437\u043e\u0432\u0438</span> <span class=\"b-wrd-expl\" explain=\"%D0%BB%D1%8E%D0%B1%D0%BE%CC%80%D0%B5%7C389%7C5%7C0%7C291%7C1%7C1%7C1\">\u043b\u044e\u0431\u043e\u0435</span> <span class=\"b-wrd-expl g-em\" explain=\"%D1%81%D0%BB%D0%BE%CC%80%D0%B2%D0%BE%7C5%7C109%7C0%7C344%7C345%7C1%7C1\">\u0441\u043b\u043e\u0432\u043e\n",
        "\n",
        "\u0432\u0435\u0434\u044c</span> <span class=\"b-wrd-expl\" explain=\"%D0%BD%D0%B0%D0%B7%D0%B2%D0%B0%CC%80%D0%BD%D0%B8%D0%B5%CC%80%7C5%7C8%7C0%7C2917%7C2918%7C1%7C1\">\u043d\u0430\u0437\u0432\u0430\u043d\u0438\u0435</span> <span class=\"b-wrd-expl\" explain=\"%D0%B2%D1%81%D0%B5%D0%BC%D1%83%CC%80%7C1428%7C78%7C0%7C291%7C1%7C1%7C1\">\u0432\u0441\u0435\u043c\u0443\n",
        "\n",
        "\u043d\u0438\u043a\u0430\u043a\u043e\u0435</span> <span class=\"b-wrd-expl\" explain=\"%D0%BD%D0%B5%CC%80%7C80%7C8%7C0%7C1%7C1%7C1%7C1\">\u043d\u0435</span> <span class=\"b-wrd-expl\" explain=\"%D0%B3%D0%BE%D1%82%D0%BE%CC%80%D0%B2%D0%BE%7C229%7C24%7C0%7C1%7C1%7C1%7C1\">\u0433\u043e\u0442\u043e\u0432\u043e\n",
        "\n"
       ]
      }
     ],
     "prompt_number": 115
    },
    {
     "cell_type": "code",
     "collapsed": false,
     "input": [
      "len(m)"
     ],
     "language": "python",
     "metadata": {},
     "outputs": [
      {
       "metadata": {},
       "output_type": "pyout",
       "prompt_number": 49,
       "text": [
        "10"
       ]
      }
     ],
     "prompt_number": 49
    },
    {
     "cell_type": "code",
     "collapsed": false,
     "input": [],
     "language": "python",
     "metadata": {},
     "outputs": []
    }
   ],
   "metadata": {}
  }
 ]
}