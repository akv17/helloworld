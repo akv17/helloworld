{
 "metadata": {
  "name": "",
  "signature": "sha256:d5dff9aab0071e99fe7bf5d820435e1b90c58cddee8956925b78800538331cfa"
 },
 "nbformat": 3,
 "nbformat_minor": 0,
 "worksheets": [
  {
   "cells": [
    {
     "cell_type": "code",
     "collapsed": false,
     "input": [
      "nonlocal - \u043d\u0430 \u043e\u0434\u0438\u043d \u0441\u043a\u043e\u0443\u043f \u0432\u044b\u0448\u0435 \u0447\u0435\u043c \u0441\u0435\u0439\u0447\u0430\u0441\n",
      "__closure__ \u0441\u043e\u0434\u0435\u0440\u0436\u0438\u0442 \u0441\u0441\u044b\u043b\u043a\u0438 \u043d\u0430 \u043d\u043e\u043d\u043b\u043e\u043a\u0430\u043b \u043e\u0431\u044a\u0435\u043a\u0442\u044b"
     ],
     "language": "python",
     "metadata": {},
     "outputs": []
    },
    {
     "cell_type": "code",
     "collapsed": false,
     "input": [
      "from globals_locals import cell"
     ],
     "language": "python",
     "metadata": {},
     "outputs": [
      {
       "ename": "ImportError",
       "evalue": "No module named 'globals_locals'",
       "output_type": "pyerr",
       "traceback": [
        "\u001b[1;31m---------------------------------------------------------------------------\u001b[0m\n\u001b[1;31mImportError\u001b[0m                               Traceback (most recent call last)",
        "\u001b[1;32m<ipython-input-4-d2cd135d8fda>\u001b[0m in \u001b[0;36m<module>\u001b[1;34m()\u001b[0m\n\u001b[1;32m----> 1\u001b[1;33m \u001b[1;32mfrom\u001b[0m \u001b[0mglobals_locals\u001b[0m \u001b[1;32mimport\u001b[0m \u001b[0mcell\u001b[0m\u001b[1;33m\u001b[0m\u001b[0m\n\u001b[0m",
        "\u001b[1;31mImportError\u001b[0m: No module named 'globals_locals'"
       ]
      }
     ],
     "prompt_number": 4
    },
    {
     "cell_type": "code",
     "collapsed": false,
     "input": [
      "def cell(arg=0):\n",
      "    \n",
      "    def get():\n",
      "        return arg\n",
      "    \n",
      "    def put(n_arg):\n",
      "        nonlocal arg\n",
      "        arg = n-arg\n",
      "        "
     ],
     "language": "python",
     "metadata": {},
     "outputs": []
    },
    {
     "cell_type": "code",
     "collapsed": false,
     "input": [
      "\u0437\u0430\u043c\u044b\u043a\u0430\u043d\u0438\u0435 - \u043e\u0431\u044a\u0435\u043a\u0442\u044b \u0441\u043e\u0434\u0435\u0440\u0436\u0430\u0442 \u0441\u0441\u044b\u043b\u043a\u0438 \u043d\u0430 \u043f\u0435\u0440\u0435\u043c\u0435\u043d\u043d\u044b\u0435 \u043a\u043e\u0442\u043e\u0440\u044b\u0435 \u043d\u0430 \u043e\u0434\u0438\u043d \u0441\u043a\u043e\u0443\u043f \u0432\u044b\u0448\u0435,\n",
      "\u043f\u0440\u0438 \u044d\u0442\u043e\u043c \u0441\u0430\u043c\u0438 \u044d\u0442\u0438 \u043e\u0431\u044a\u0435\u043a\u0442\u044b \u0442\u043e\u0436\u0435 \u043d\u0430\u0445\u043e\u0434\u044f\u0442\u0441\u044f \u0432 \u044d\u0442\u043e\u043c \u0436\u0435 \u0441\u043a\u043e\u0443\u043f\u0435 \u043d\u0430 \u043e\u0434\u0438\u043d \u0432\u044b\u0448\u0435"
     ],
     "language": "python",
     "metadata": {},
     "outputs": []
    },
    {
     "cell_type": "code",
     "collapsed": false,
     "input": [
      "make_adder\n",
      "\n",
      "eto tozhe zamykanie\n",
      "\n",
      "def make_adder(val):\n",
      "    def adder(plus_val):\n",
      "        return val + plus_val\n",
      "    \n",
      "    return adder\n",
      "    \n",
      ">>> add5 = make_adder(5)\n",
      ">>> add5(10)\n",
      "15\n",
      ">>> add5(15)\n",
      "20"
     ],
     "language": "python",
     "metadata": {},
     "outputs": []
    },
    {
     "cell_type": "code",
     "collapsed": false,
     "input": [
      "def make_adder(val):\n",
      "    def adder(y):\n",
      "        return adder.x + y\n",
      "    adder.x = x\n",
      "    \n",
      "    def update(x):\n",
      "        adder.x = x\n",
      "    adder.update = update\n",
      "    return adder\n",
      "\n",
      "\u0442\u043e\u0433\u0434\u0430 \u0443 adder \u0435\u0441\u0442\u044c \u0434\u0438\u043d\u0430\u043c\u0438\u0447\u0435\u0441\u043a\u0438\u0435 \u0430\u0442\u0440\u0438\u0431\u0443\u0442\u044b x \u0438 update (\u0444-\u0438\u044f)\n",
      ">>> make_adder(5)\n",
      "adder.x = 5\n",
      ">>> adder(10)\n",
      "15\n",
      ">>> adder.update(10)\n",
      ">>> adder.x\n",
      "10"
     ],
     "language": "python",
     "metadata": {},
     "outputs": []
    },
    {
     "cell_type": "code",
     "collapsed": false,
     "input": [
      "def deprec(func):\n",
      "    @functools.wraps(func) # \u0441\u043f\u0435\u0446 \u0434\u0435\u043a\u043e\u0440\u0430\u0442\u043e\u0440, \u0447\u0442\u043e\u0431\u044b \u0437\u0430\u043b\u0438\u0442\u044c \u0432 \u0432\u0440\u0430\u043f\u043f\u0435\u0440 \u0441\u0432\u043e\u0439\u0441\u0442\u0432\u0430 func (\u043d\u043e \u043d\u0435 \u0432\u0441\u0435, \u0430 \u043e\u043f\u0440\u0435\u0434\u0435\u043b\u0435\u043d\u043d\u044b\u0435)\n",
      "    def wrapper():\n",
      "        print'deprecate', func.__name__\n",
      "        return func(*args, **kwargs)\n",
      "    return wrapper\n",
      "\n",
      "def foo(x):\n",
      "    return x\n",
      "\n",
      ">>> foo = deprec(foo) # \u0432\u043e\u0437\u0432\u0440\u0430\u0449\u0430\u0435\u0442\u0441\u044f \u0432\u0440\u0430\u043f\u043f\u0435\u0440\n",
      ">>> foo(1) # \u043e\u043f\u0435\u0440\u0438\u0440\u0443\u0435\u0442 \u0432\u0440\u0430\u043f\u043f\u0435\u0440 \u043d\u0430 \u0441\u0430\u043c\u043e\u043c \u0434\u0435\u043b\u0435\n",
      "foo deprec\n",
      "1\n",
      "\n",
      "\u044d\u0442\u043e \u0432\u0441\u0435 \u0442\u043e\u0436\u0435 \u0441\u0430\u043c\u043e\u0435 \u0447\u0442\u043e \u0438 \u0434\u0435\u043a\u043e\u0440\u0430\u0442\u043e\u0440\n",
      "\n",
      "@deprec\n",
      "def foo(x):\n",
      "    return x\n",
      "\n",
      "\u0434\u0435\u043a\u043e\u0440\u0430\u0442\u043e\u0440\u044b \u043d\u0443\u0436\u043d\u044b \u0447\u0442\u043e\u0431\u044b \u0438\u0437\u043c\u0435\u043d\u044f\u0442\u044c \u0443\u0436\u0435 \u043d\u0430\u043f\u0438\u0441\u0430\u043d\u043d\u044b\u0435 \u0444-\u0438\u0438,\n",
      "\u043d\u0435 \u0438\u0437\u043c\u0435\u043d\u044f\u044f \u043d\u0438\u0447\u0435\u0433\u043e \u0432\u043d\u0443\u0442\u0440\u0438 \u044d\u0442\u043e\u0439 \u0444\u0443\u043d\u043a\u0446\u0438\u0438"
     ],
     "language": "python",
     "metadata": {},
     "outputs": []
    },
    {
     "cell_type": "code",
     "collapsed": false,
     "input": [
      "def timeit(func):\n",
      "    "
     ],
     "language": "python",
     "metadata": {},
     "outputs": []
    }
   ],
   "metadata": {}
  }
 ]
}