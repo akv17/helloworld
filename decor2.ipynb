{
 "metadata": {
  "name": "",
  "signature": "sha256:f616e1a58c183e9b0f018777d6762853da9df98b35b46bb679ad11e68106b309"
 },
 "nbformat": 3,
 "nbformat_minor": 0,
 "worksheets": [
  {
   "cells": [
    {
     "cell_type": "code",
     "collapsed": false,
     "input": [
      "import timeit"
     ],
     "language": "python",
     "metadata": {},
     "outputs": [],
     "prompt_number": 1
    },
    {
     "cell_type": "code",
     "collapsed": false,
     "input": [
      "def timethis(func, ffile=None):\n",
      "    if ffile:\n",
      "        print(ffile)\n",
      "    def wrapper(*args, **kwargs):\n",
      "        st = timeit.default_timer()\n",
      "        func.__call__(*args, **kwargs)\n",
      "        print(timeit.default_timer() - st)\n",
      "        return func(*args, **kwargs)\n",
      "    return wrapper\n",
      "\n",
      "@timethis\n",
      "def foo(x):\n",
      "    return [i for i in range(x)]"
     ],
     "language": "python",
     "metadata": {},
     "outputs": [],
     "prompt_number": 23
    },
    {
     "cell_type": "code",
     "collapsed": false,
     "input": [
      "x = foo(100)"
     ],
     "language": "python",
     "metadata": {},
     "outputs": [
      {
       "output_type": "stream",
       "stream": "stdout",
       "text": [
        "1.1841803143397556e-05\n"
       ]
      }
     ],
     "prompt_number": 24
    },
    {
     "cell_type": "code",
     "collapsed": false,
     "input": [
      "decorator @property prevrashayet rezultat raboty metoda v atribut"
     ],
     "language": "python",
     "metadata": {},
     "outputs": []
    },
    {
     "cell_type": "code",
     "collapsed": false,
     "input": [
      "def singleton(cls):\n",
      "    instance = None\n",
      "    \n",
      "    @functools.wraps(cls)\n",
      "    def wrapper(*args, **kwargs):\n",
      "        nonlocal instance # nonlocal \u0447\u0442\u043e\u0431\u044b \u043c\u043e\u0447\u044c \u043c\u0435\u043d\u044f\u0442\u044c instance \u0432 \u0441\u043a\u043e\u0443\u043f\u0435 \u0432\u044b\u0448\u0435\n",
      "        \n",
      "        if instance is None:\n",
      "            instance = cls(*args, **kwargs)\n",
      "        return instance\n",
      "    return wrapper\n",
      "\n",
      "@singleton\n",
      "class A:\n",
      "    pass"
     ],
     "language": "python",
     "metadata": {},
     "outputs": []
    },
    {
     "cell_type": "code",
     "collapsed": false,
     "input": [
      "2^k = M! voprosov (informacii) chtoby otsortirovat list dlinnoy M: vopros tipa (da/net)\n",
      "k = log(M!) = MlogM"
     ],
     "language": "python",
     "metadata": {},
     "outputs": []
    },
    {
     "cell_type": "code",
     "collapsed": false,
     "input": [],
     "language": "python",
     "metadata": {},
     "outputs": []
    },
    {
     "cell_type": "code",
     "collapsed": false,
     "input": [],
     "language": "python",
     "metadata": {},
     "outputs": []
    }
   ],
   "metadata": {}
  }
 ]
}